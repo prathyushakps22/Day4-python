{
 "cells": [
  {
   "cell_type": "markdown",
   "metadata": {},
   "source": [
    "# Jupyter Markdown"
   ]
  },
  {
   "cell_type": "markdown",
   "metadata": {},
   "source": [
    "## Jupyter Markdown"
   ]
  },
  {
   "cell_type": "markdown",
   "metadata": {},
   "source": [
    "### Jupyter Markdown"
   ]
  },
  {
   "cell_type": "markdown",
   "metadata": {},
   "source": [
    "#### Jupyter Markdown"
   ]
  },
  {
   "cell_type": "markdown",
   "metadata": {},
   "source": [
    "- point 1\n",
    "  - **sub point 1.1**\n",
    "  - ***sub point 1.2***\n",
    "  - *sub point 1.3*\n",
    "- point 2\n",
    "- point 3"
   ]
  },
  {
   "cell_type": "markdown",
   "metadata": {},
   "source": [
    "### Python Introduction\n",
    "- python 3\n",
    "- python can be used as functional programming\n",
    "- python can be used as scripting programming\n",
    "- python is intially designed by **Guido Van Rossum** in 1991"
   ]
  },
  {
   "cell_type": "code",
   "execution_count": 2,
   "metadata": {},
   "outputs": [
    {
     "name": "stdout",
     "output_type": "stream",
     "text": [
      "hello world\n",
      "welcome to python programing\n"
     ]
    }
   ],
   "source": [
    "# input and output functions\n",
    "# output function\n",
    "print(\"hello world\")\n",
    "print(\"welcome to python programing\")"
   ]
  },
  {
   "cell_type": "code",
   "execution_count": 4,
   "metadata": {},
   "outputs": [
    {
     "name": "stdout",
     "output_type": "stream",
     "text": [
      "markdown cellcode cell\n"
     ]
    }
   ],
   "source": [
    "print(\"markdown cell\",end='')\n",
    "print(\"code cell\")"
   ]
  },
  {
   "cell_type": "code",
   "execution_count": 5,
   "metadata": {},
   "outputs": [
    {
     "name": "stdout",
     "output_type": "stream",
     "text": [
      "enter your name : \n",
      " prathyu\n",
      "your name is  prathyu\n"
     ]
    }
   ],
   "source": [
    "# input function\n",
    "print(\"enter your name : \")\n",
    "a = input(' ')\n",
    "print('your name is ',a)"
   ]
  },
  {
   "cell_type": "markdown",
   "metadata": {},
   "source": [
    "### inserting an image using markdown\n",
    "![image](data:image/jpeg;base64,/9j/4AAQSkZJRgABAQAAAQABAAD/2wCEAAkGBwgHBgkIBwgKCgkLDRYPDQwMDRsUFRAWIB0iIiAdHx8kKDQsJCYxJx8fLT0tMTU3Ojo6Iys/RD84QzQ5OjcBCgoKDQwNGg8PGjclHyU3Nzc3Nzc3Nzc3Nzc3Nzc3Nzc3Nzc3Nzc3Nzc3Nzc3Nzc3Nzc3Nzc3Nzc3Nzc3Nzc3N//AABEIAIIA3QMBIgACEQEDEQH/xAAcAAABBQEBAQAAAAAAAAAAAAAFAAECAwQGBwj/xABIEAABAgMFBQQGBgcFCQAAAAABAgMABBEFEiExYRMUIkFRBnGRoRUygbHB0SNCUmKS4QdVgpTC8PEkMzRyohZDRGNkdISTsv/EABoBAAIDAQEAAAAAAAAAAAAAAAABAgMEBQb/xAAiEQACAQQCAwEBAQAAAAAAAAAAAQIDERITBCEUMUFRImH/2gAMAwEAAhEDEQA/ANQl4cS+kFBL6RMS2kdLYcNUQTu+kOJbSDAltIkJbTyg2ktAF3bSGMtpBvdtPKFuunlD2idABbuekOGKcoOGUry8obc9PKDaLS0BdhpDGX0g2JPTyh9z08oWZLWwEZbSG3fSD+56eUNuWnlDzIumwFu+kMZfSDu56eUPumnlEskLBnPmW0iJl9IP7oCaUERMnUZeUPJEMWc+WNIgpjSD6pLTyilUmenlE1JFcosBKl9IqVLaQeVKHp5REymnlFimUyg2c8ZXSI7qekdAZTTyiO56eUSVRFTo9gDdTzxhlSx6R0G56eUNuf3fKHsDS2c9sD0ht3J5R0Jkx9nyiBlAOXlC2oaoMBbsekLd1QbMtpEd20hbia452SWImGNILbsIkJaOHtPTaQSGNIlsNILbtD7uIewNQJDGkPsNIKbuIWw0MGwNQNDEOGNII7CITCdhLuvXFL2aCq6kVKqchBsE6RjEuOkOWB0jiT24tiblnXZWxXWS0RfQppTpUFHhOFCMuhzEbrJ7S22izHHLSsV16ZSvBtspQUjPiBxGmGOUSyYtaOm2GkNsNIBzPad4tb1LSjIlGgS/tnQFJxwIphTCB87+kuxmpbasIW8byk3AoYkDMHoesLaRdI6wsxz3ay1FWZZ6HZUoUpxV0Lzp3Dmco5mc/SgZqXlhIWelTj1UzDDgKrvd1HfA42u2kLamJZ9xpbgEqu8G93BwLfDhjTPxglN2HCj3exRI9sbbTLLmAyp9pbgQgrQFgKzIwIphHozNsWatUu0uaabffAuNqUK1Ird748ct+XttDk2pqU3eUeUolDLoUkdfaYIWTaEimd3e1mn5ecC0hybljdQB3DphiPKHGbXSYToxfbR7NsAeWPOIGV0i+zU/2GX+nMx9EmjxGKxTM98bLkT2lOi4JVJ6RWqT0gyW4gWxD32F4wGMppEd00gyWxr4RHZQ94vGQHMrpETLaQXU0IrU3D3MXjAoy+kVql9ILFEUrRBuJeN/gKXL6RUWMcoJrTFZRjBtH453FBTKJUB5QITPNdXPxxMTzXK/+IxzbM6mcQrdT0hXU9IGb83978RiQnW/v/iMOzFkgjdT0hrqennGHfGz9rxhb2jkT4wWYro33U0rSBnaOfTZNkvTYHEmiU8F7iJoMKiox6xaJscle+Of7Z2cLZs1QDirzYKkoJ4SetOcNRbYnOKVzzvtH23mTPWaqWeC2y3R9pDCUqdUSM+hrkIHdqZy0FpUtaHVIedukuq4yRjgUnIe+Mr1gmz3mnbhevFXBeUm4UnDKK5+WWpbbimH3AgZJmOuNcUxplTfX4ZI8qk73Zmknny1slsrSm9xF104CtTl3xmkl2c3vF9vaJKqXakg9KY6HnE9zmKpUN5SkVugqBHuxhjLFZAUsi6aVPX2Q1FRFvi/QQlZuQlC5MNS6UhQoQoUMBmXZicfmJqVqKLqlJIrG7cJdTf0s0pWlI0y7dmhpaDMTCQaVS2An3iKHVgjSnmkjM9Jb4gpm5yYeeCSoJWqiUnl5xfMNltltuXAASi6bxz1xjoux/o5VpPyJa28s5L370y2lRCgaHiA5g+UYu1nZ+Xkn1OyzkwWXD6ragbp9oJiMaiuXSpfzkj1Hslw9mrLGZEq2DTrdFYMhQjhuyEsZSw5W9aE08hbaVJS6UkIBFaAgZR0G8NAde8w2mUqaCM9OsSMup+YWUoSK4Cp9gjhbT7bTy317gjZNDEX2qmmtY6dcy3TDAwFmypTxIcVTpWL6Nl7Vyis2/TsD5XtzaKFpExKomE4VDbZSfHGDP8AtpZ+zClytpJWfqbqonxGEZ2XCkiriiNTGlU1UUv4ROWD+EISl+hhicamWG3mr1xabwqKHwMJTo1gOqbNPX8oqVN1+v5RVgX7VYJrnmk7TFX0frcJw+cB57tGGUnYSM24v77d0ecIzJxIWPwiM7j1U0KwfZFsYL6VyqP4BZntDbMwCWxu4rQXEAnzgS7bFqrVV199R7iPdHSOXTzikpRX840xcUvRlm5P6dmHRXMeMTDo6wNDgGF5IiW2GHHGLAuzCYd1iQcgbtuYJMLbgczDwDYEtsOeMOHRTSBRmQM1084be08lYc8IMBbUFttrDOOgoIJzECN8ocBCM6rkUw8BOqrAW00DanCt1Z84xMgG+m5WqaYxsm3C66u9jjXKMrDgS6UgCpwpzjSl0YJNXJoQnYXdmjA9PyjI/KtcVWUU5GgjZtUpQpJFTWMrrgxBGI6CJJEWwdMMNBAoEpAwrhAtqTM3NtyrCCpbqwBTkOvhWCswtF27xYGD/Y2zxKbWadDF94URtjigdx69RFHJjGMLs1cJSqVUkFbJs5iSaDTUotKAPWFBe1MXz7SlI+ilniT0dpBJBQrNbP7CRCdbZUD9Jy5pTHHysz06StY5FqYmZEKaeaU3LDFsqWDc+7yiz0ma51jXaskl1opU6gJOAKEiqTyPfHJTbUzZ6lB1J2YVQKBKhTkSaAR0+NKM/wCX7OJz6U6X9wXR0ZtLDOM7k9VWY8Y5xc4QaYEdQTE0PJWmt9RHdSNyopHGny5B0z4H1qRAz/fAYrbP+8NIiVoSa3059YepFfmSDe+nqYbfT9owI2oIzBHfDF5KenjBqQeZL8DCZuuajDl4HAQFVN3R6sMJrCtMINRLyZhraCGvawJTNnIAU8InvNPqo/FD1i8mR1G8KrXaHuGELevtOK8TAwPpBOYTqc4czqQuiUCmucZ8To9hLeArLaK0MMXCRlTvMCjOLCsqA9RDKnFFIpROdVEwYkZdBMuK5FI78Yht014nB7OUC9sVYX72sMt5kAg3hh4/OJYlLkEy+k1IWo0PWKHJ1tFLqbxr9bCMAcJoEJBBy5iIOKcFL1MRWgzESUSGTND02Vr4EoFM6KjKp5VQVFOI4gkRU6ulK3QTyOfhFKlqTQk3R7aRYkip/wCmxE3QHAjDMERQ9N0ThQjKgBpGRyZCVFNaK/yYxQ64k5qN7VOcHSGkFLLlhNPbV8pQ2hY4VJUoKPTAZR16bWlwsbVyzUlPMytMOmJjF2ftBNnWS1LJmpVCgCtSDLqUQo45g+z2RtctdCjTeZMXuSpRWP8Aqjj8iq5zt8R6jhcdUqa/Wa0W1LD1ZqQu/dCU/GLDbUoRjNyn/vQIytzrpb+jnLOoP+nIA/1Qt9mEi8qbkCD9lpXzjG0rm9IjMWnZ66hPo13VbyD8IEzkzKuMuE2dY7yzy3lKQR4ZxsdtZN8gv2eSORYXAy0J1p1taNpIoCwUhSUrTTDMHrF1NNeiup2rM5GecMjN3FsobbXxISl4OhI/zfOHTM8NG6CpziVtSiVMLcd7Qtzkw0KhlYoo9aawFYdJIQVUrkb1I7dKplBXPM8nixU3ZBVt9QdyGqQYtcdJWLzSbugp5xlF25xXys865+ETTLKKSoZDGhrnEtiMjoGsql7oJDiD0ziwuNAUC6HUUrGMNukgOKIqMRj5QygoqSSMNCaQ80Vvjs1VbVUXkJV3CGU0btds2fbGVTIITVxIrXDGo8obY4iilY86CsNSQKlb6aCFJHrIHcYjf1rqDDIbN31/hCSkGt0hXXMRLIVrBre2wnKupixD7aQ2UK4yeIIGQ74ghwKutuMpTXK6c/hDmVSlyg2bOJFFuBJOHkIyuSOqk/w1TCnp2bbblW3CVV2YK72ArQeEUqk36oeLYS24SlKk1OIzh2mSWQ84oNAg8asQqgyrGibYC0hyWpLsLAIM0vEjqPu1ryiOdukOVK/ZiWBezClDWgENdaaQStwEkZ1p4RkLwSFOIAAGF+nXp/SKnwu+NobyiAARU0+EWpmaVOxp26WimihxYDrEFuuXwVKITnis4/CB4Zd3oJUHlEVN5fq+PSL1OpUCgNBvac3DTh584HJISp39EnFLSqiU3TXE5U74yO2ihCboQ4pYNFKJ56RFaDtAkPpSo4EKNfE1whn21sgrSuq8jeMLYWaLeya3UKQFrSokpqQM/wA4J9mLPRPWs3vRUmUa41LApjyFIE/SVSpSBdPJRoT7ekdRYNodnpOQaZmZik6FXnKMqVcVphjhSM1es1Ho08TixlU/r0d85aEqtwEu0FM0sKw8oZ20pNav8UEqAwrLK+UDjKNKaU6l9TaT9g1HtwimXssEXwp1YrWqaGscm56NRQVTOy2J2jdeplVGsVuTEqs120v3brT3mK92bQmp26UgVqbuHsAiezlzk66f2PyiFydipRs1YNVSFed5pNffGdw2UG1tq9FBR9Wt0Hwi9xiWObzg/Y/KB02yhHEh1w0w/uiYsgyEkjmO0XZqStGdQ9KT8kxwBJDakUOuYxxp7I4+3rKXZE2Gd5bmW1JCg40QR3GhNDHoE9s04uOpbqc1C6AfbA61VD0ZMLYcYfKU1UhRpfHMZ55x0KNecevhzq3GhK7+nF2fMBSwy9UpNaY0pG1goW9s01uJNL6gccMjj1gBeFSRgmuABrBayH1FW7KIN44KKqFJ741S9XOXZLoMKvNmpSVUBvaaw7rd4rUpSWjTqDXUiLKvvEIYoWiu6C4k310FMgTXn0gW/MpdmShcygBFEuKdxFNOfTujOpsswjbs0kut8Smm11NCpNQfZF6VNOUVslgU+wB784Hf2d3ZIUgnhJKW3FClMK4fzhFk5MN3G0JDqS4KApBr7/nEtjbsPVC1wgalBStJw5VpTlDpHIJrqhWffGNLk0hIvXxRNFqXUEjmcO/nFzs+oLICHF0NLyciIbnJeiEKFOXtnXMWFuiNvas+EXMeHnXDkKxEvyxdLbLjKQsEJ2ABKqCpqSag5RxMuH3GiucnZh0FVfpFKJV8o32fLrDqSw1cC0VvF3zOOEPW7Xm+zVkn1GIemJpU0zu7CaNs8SjXKvMgmlYm7JMuS+2ZWWkoAvLfcqkqA9VIplXnU+carOs8ocDU6VPuOoJaAICVXafa4j0HWKrTaG7mVmJRbLqaLIW+bpFSTVIwqaDPKkU5WfRZr67ATrjTKyHVIUjMk519vwilCkvZOpbbPDecNCR3HExZMMWcibK3pV4qUApDYQVkj3dYebTKqqXnAXQNBdFMycyYszKNORSoyYbptlUbTSgTWquhwyhl7U1CmyBQ1IFUpGkUSiSFrYZUyEUCsE8S65jrG5TZLSXnXHUJwqo1ukE/Z/pnEZTxdrhGjd3SBqmGAzUyzpN/1WyEnLpjGRx5cs4QwhSnMKkpFAO+CalmaQ400o7NsEFSxnj9UA8uZEZ0oaZDm2WcuI0vGoGZ6Z5ViO1LqQ9b+FNkonbStaXYUpTAdWAVUyHPPSseio7G2KhaXEvzbi7wOD4phkcv5pAf9HMldmHbQcru7aCkKVikqPTuFfGO+XPSTFEKdbSpQ4QmkZq1dt2ibuPx1jeXYNTZrqQA3bNopA+qC0f4If0dNK4vS86SMOINH+GCwmmQUAON0IJPBFiHWSiqXG1A6Rlc2blFAPcJyuNqPkatNH4RW5Z0yb1LQUf8zDfwAg044xUXtmSTQYRBW6kVKWfwiIZMnigCZKfTdCZ1mnRUoPgqKZiVtQ0AmpEjrupB/wDuD4TLE4JY9gEOpqXoSW2z3ROM2hOKOLtGxZ+dlXJeZmJMocSRXZLB8lHGADP6Pp5xdxicBUcPVIw8Y9NXLyjmTI7rx+cZ0spadUltKkgio4lE++NEa8orozToQl7PHe0HZ6bsGZbbmaKStODicqg4j3QMqEgHDA1pnHrfaizU2vZzzJW6p9IvMVOAUPyqPbHj7qqKIUCCDjXMaR0KNXOPZyORRwnZeg9Z07LzCEpmpgtlC/7upN6vKn80jezLybjiXW3kpDYqlKUgKHXMez2xxwN4YGvfhHWyKVWnLFLLjrCikAqdQClSR0xwjPXWH9JkFZ9M0OtKS4UrSlSHMWjcqO/lh3Ze2Hbst+/VALiVJurDiimn9PbDykhMSRZbcmQ6ErvIwqn9n5EwRZYutOpmXEtMOrqXVqN/Kp6fzzjK69nZMg4SXfwFsyTjadmtDgCeFKmneEDRVKVxrGxmWnSCGUJeQmiUrmFCpFB0I1hPNzMqptD61PFz+5S03eqnkSRrnWIptHcqtTU5u6q12a20mhyNDQ6RPc36Fi/Yen7SYkn32JZSFJVdKlLGXUAKJjmnrUVKFaZdu9vCAFJWQTermU08I+iTY9lqres2TNc6sJx8oYWLZQNRZkkD/wBuj5Rqp4wR0alWUvXR5Z2ceecsITK5d1yaIUVvK4CAMhePhhj7IM7sw+9KySmFONPJ2riwo3Aigoa4VxBzHKPQG7PkmhRqTl0DolpI+ESTJyqRRMsyBSlA2IqnTylcmq1lax4xbzctZy2RL2g2tyYBSrbYhKTzriT744aakplE4sSaxMoKqocbHCR1FaecfTjtl2e6AHZCVWBleZSaeUMiyrObFG5CVSPuspHwi2LcV0VTakfOEwUyTTKX3m9sBVwNAkCtPW6nPDlA20LbN8tCZQju4r2h5AaR9OqsSyVnjsuRV3y6D8IRsOyDnZUif/GR8oil3eRLZZWj0fM9mziFNFqUnClnNYwHdSnnpGlLCHWg86tFW7pLbibxINemApUc4+g52z7NkqbvYkota0qpclk5gVANBzyimYTKIbKG7Bl1KSFcJYF3AgYEJ518orlTbd0RyPNbBcmE2W2XrGtF/bkvF1txNFA0oQCoUwjWqdbaN5Vh2oAOeySr+KPSG5hriQ3ZYShAJHAEg06YRDfEcV+yzlUfR4nhr9nlkYr0GmPKsrWODlrZkHuFTE0zXPayywB7RUQQbSwEgtvNXSMBjHZB9u48VWeAW1UH0eCxXMYZfnhFa5hslQTZV8pWE+oOtK5e3uxiL43+li5v6jktk3evEppTOuERQmqbpunnVJjuUMSy3mh6ORdW3fLhbTRBw4Tzrj05QOWsLCQbIYdNxRI2Gahe65DhGvEIXiv9H5q/DlHW0gZgHUxlU3wm8CVciF5R2kutKiAuyWGkVZ/4f7frcuUKWXeUAuzpdkKKhUS9chUE5UHLv6QeK/0fmr8PPpqXJaDiXFAjSM5YebF5t0BR+slWIj0pBW4mhsqXSopQaFioqSBQ9M66Ac4LejZCv+Blu/Yp+UTVBr6QfLj+HgHahu1LPs70gh9a0tqCj9IaUJocAe6PN3XkuuuOFabylFRxzJNY+xlWVZy0lK7PlFJVgQWUkHyir0BY36os/wDdkfKNNO8EZK0tjufHqXQCLykU5cQwgzY1smVbclCEPNPKCgkq4gsZUpn0prH1T6Asb9USH7sj5QvQNjfqmQ/dkfKHNqcbMoULO583zNoy8khE5uqriqoTVdQ0oUoDzGHjDf7TSbc0la1natG8lSVYFR0yj6U9DWV+rJL93R8oj6DsitfRUjXruyPlGbxoNdlylY+e02gQ40+2tTqXjebvqFBVWQprSKF2wpM08tybAUogKQEIJSoVBBCso+jPQtk0p6MkqA1pu6PlEjZFmE1NnSdT/wAhPyitcWzvcm5xfw2woUKNhUKFChQAKFChQAKFChQAROcPChQAIwoaFAA8PChQAMYZXKGhQAOM4RyMKFAAq4xKFCgAUKFCgAUKFCgAUKFCgAUKFCgA/9k=)"
   ]
  },
  {
   "cell_type": "markdown",
   "metadata": {},
   "source": [
    "## inserting a site using markdown\n",
    "[site](https://www.google.com/search?q=sunset+image&tbm=isch&ved=2ahUKEwjLq7az67HmAhWxB7cAHSEzBboQ2-cCegQIABAA&oq=sunset+image&gs_l=img.3..0l10.66994.68550..69305...0.0..1.479.1427.0j5j1j0j1......0....1..gws-wiz-img.......0i7i30j0i10.ya62yt8EnSc&ei=dBrzXcuhJLGP3LUPoeaU0As&bih=625&biw=1366&rlz=1C1CHBF_enIN858IN858)"
   ]
  },
  {
   "cell_type": "markdown",
   "metadata": {},
   "source": [
    "# fundamental data types\n",
    "1. int\n",
    "2. float\n",
    "3. complex\n",
    "4. boolean\n",
    "5. string "
   ]
  },
  {
   "cell_type": "code",
   "execution_count": 6,
   "metadata": {},
   "outputs": [
    {
     "name": "stdout",
     "output_type": "stream",
     "text": [
      "<class 'int'>\n",
      "10\n"
     ]
    }
   ],
   "source": [
    "#basic example\n",
    "x = 10\n",
    "print(type(x))\n",
    "print(x)"
   ]
  },
  {
   "cell_type": "code",
   "execution_count": 7,
   "metadata": {},
   "outputs": [
    {
     "name": "stdout",
     "output_type": "stream",
     "text": [
      "(5+4j)\n"
     ]
    }
   ],
   "source": [
    "a = complex(5,4)\n",
    "print(a)"
   ]
  },
  {
   "cell_type": "code",
   "execution_count": 9,
   "metadata": {},
   "outputs": [
    {
     "name": "stdout",
     "output_type": "stream",
     "text": [
      "<class 'complex'> <class 'float'> <class 'int'>\n"
     ]
    }
   ],
   "source": [
    "x = 3+5j\n",
    "y = 10.25\n",
    "z = 10\n",
    "print(type(x),type(y),type(z))"
   ]
  },
  {
   "cell_type": "code",
   "execution_count": 10,
   "metadata": {},
   "outputs": [
    {
     "name": "stdout",
     "output_type": "stream",
     "text": [
      "(9+11j)\n",
      "(1+1j)\n",
      "(-10+49j)\n"
     ]
    }
   ],
   "source": [
    "c1 = 5+6j\n",
    "c2 = 4+5j\n",
    "print(c1+c2)\n",
    "print(c1-c2)\n",
    "print(c1*c2)"
   ]
  },
  {
   "cell_type": "code",
   "execution_count": 11,
   "metadata": {},
   "outputs": [
    {
     "data": {
      "text/plain": [
       "False"
      ]
     },
     "execution_count": 11,
     "metadata": {},
     "output_type": "execute_result"
    }
   ],
   "source": [
    "a= 10 #boolean\n",
    "b = 60\n",
    "a > b "
   ]
  },
  {
   "cell_type": "code",
   "execution_count": 12,
   "metadata": {},
   "outputs": [
    {
     "name": "stdout",
     "output_type": "stream",
     "text": [
      "<class 'str'>\n",
      "<class 'str'>\n"
     ]
    }
   ],
   "source": [
    "#string\n",
    "s1 = \"abc\"\n",
    "s2 = \"xyz\"\n",
    "print(type(s1))\n",
    "print(type(s2))\n"
   ]
  },
  {
   "cell_type": "code",
   "execution_count": 14,
   "metadata": {},
   "outputs": [
    {
     "name": "stdout",
     "output_type": "stream",
     "text": [
      "<class 'str'>\n"
     ]
    }
   ],
   "source": [
    "s1 = \"100\"\n",
    "print(type(s1))"
   ]
  },
  {
   "cell_type": "markdown",
   "metadata": {},
   "source": [
    "## datatype conversions"
   ]
  },
  {
   "cell_type": "code",
   "execution_count": 15,
   "metadata": {},
   "outputs": [
    {
     "name": "stdout",
     "output_type": "stream",
     "text": [
      "<class 'int'>\n",
      "<class 'str'>\n",
      "<class 'float'>\n"
     ]
    }
   ],
   "source": [
    "i = 100\n",
    "print(type(i))\n",
    "s1 = str(i) #str() converts the input into string type\n",
    "print(type(s1))\n",
    "f1 = float(i) #float() converts the input into float type\n",
    "print(type(f1))"
   ]
  },
  {
   "cell_type": "code",
   "execution_count": 16,
   "metadata": {},
   "outputs": [
    {
     "name": "stdout",
     "output_type": "stream",
     "text": [
      "<class 'str'>\n",
      "<class 'int'>\n",
      "<class 'int'>\n",
      "2\n"
     ]
    }
   ],
   "source": [
    " s1 = \"200\"\n",
    "print(type(s1))\n",
    "b= int(s1)\n",
    "print(type(b))\n",
    "f= 2.5\n",
    "a= int(f)\n",
    "print(type(a))\n",
    "print(a)"
   ]
  },
  {
   "cell_type": "code",
   "execution_count": 17,
   "metadata": {},
   "outputs": [
    {
     "name": "stdout",
     "output_type": "stream",
     "text": [
      "5\n"
     ]
    }
   ],
   "source": [
    "# a number is given 23456\n",
    "# digit count\n",
    "s = 23456\n",
    "print(len(str(s)))"
   ]
  },
  {
   "cell_type": "markdown",
   "metadata": {},
   "source": [
    "# operators\n",
    "## 1. arithematic operators----->+,-,*,/,//,%,**\n",
    "## 2. logical operators--->and,or,not\n",
    "## 3. relational operators---> <,>,<=,>=,==,!=\n",
    "## 4. membership operators---> in,not in "
   ]
  },
  {
   "cell_type": "code",
   "execution_count": 18,
   "metadata": {},
   "outputs": [
    {
     "name": "stdout",
     "output_type": "stream",
     "text": [
      "65\n",
      "25\n",
      "900\n",
      "2.25\n",
      "2\n",
      "5\n",
      "1159445329576199417209625244140625\n"
     ]
    }
   ],
   "source": [
    "#arithematic operators\n",
    "a = 45\n",
    "b = 20\n",
    "print(a+b)\n",
    "print(a-b)\n",
    "print(a*b)\n",
    "print(a/b)\n",
    "print(a//b)\n",
    "print(a%b)\n",
    "print(a**b)\n"
   ]
  },
  {
   "cell_type": "code",
   "execution_count": 19,
   "metadata": {},
   "outputs": [
    {
     "name": "stdout",
     "output_type": "stream",
     "text": [
      "False\n",
      "True\n",
      "False\n",
      "True\n"
     ]
    }
   ],
   "source": [
    "# relational operators\n",
    "x = 30\n",
    "y = 10\n",
    "print(x==y)\n",
    "print(x!=y)\n",
    "print(x<y)\n",
    "print(x>y)"
   ]
  },
  {
   "cell_type": "code",
   "execution_count": 20,
   "metadata": {},
   "outputs": [
    {
     "name": "stdout",
     "output_type": "stream",
     "text": [
      "True\n",
      "True\n",
      "False\n"
     ]
    }
   ],
   "source": [
    "#logical operators\n",
    "print(x>=10 and x<=30)\n",
    "print(x>=5 or x<=20)\n",
    "print(not x)"
   ]
  },
  {
   "cell_type": "code",
   "execution_count": 21,
   "metadata": {},
   "outputs": [
    {
     "name": "stdout",
     "output_type": "stream",
     "text": [
      "True\n",
      "False\n"
     ]
    }
   ],
   "source": [
    "# membership operators\n",
    "str1 = \"abc\"\n",
    "print('a' in str1)\n",
    "print('b'not in str1)"
   ]
  },
  {
   "cell_type": "markdown",
   "metadata": {},
   "source": [
    "# conditional statement\n",
    "- 1.if\n",
    "- 2.else\n",
    "- 3.elif\n",
    "# syntax\n",
    "- if condition:\n",
    "# statements\n",
    "- elif condition:\n",
    "# statements\n",
    "- else:\n",
    "# statements"
   ]
  },
  {
   "cell_type": "code",
   "execution_count": 23,
   "metadata": {},
   "outputs": [
    {
     "name": "stdout",
     "output_type": "stream",
     "text": [
      "enter the number:24\n",
      "even\n"
     ]
    }
   ],
   "source": [
    "#to check given no is even or odd\n",
    "n = int(input(\"enter the number:\"))\n",
    "if n%2==0:\n",
    "    print(\"even\")\n",
    "else:\n",
    "        print(\"odd\")"
   ]
  },
  {
   "cell_type": "code",
   "execution_count": 25,
   "metadata": {},
   "outputs": [
    {
     "name": "stdout",
     "output_type": "stream",
     "text": [
      "enter the number:15\n",
      "yes\n"
     ]
    }
   ],
   "source": [
    "# to check given number is perfectly multiple of 3 and 5\n",
    "n = int(input(\"enter the number:\"))\n",
    "if (n%3==0 and n%5==0):\n",
    "    print(\"yes\")\n",
    "else:\n",
    "    print(\"no\")"
   ]
  },
  {
   "cell_type": "code",
   "execution_count": 2,
   "metadata": {},
   "outputs": [
    {
     "name": "stdout",
     "output_type": "stream",
     "text": [
      "enter the number:4\n",
      "positive number\n"
     ]
    }
   ],
   "source": [
    "#check the given number is positive,negative or zero\n",
    "n = int(input(\"enter the number:\"))\n",
    "if n>0:\n",
    "    print(\"positive number\")\n",
    "elif n<0:\n",
    "    print(\"negative number\")\n",
    "elif n==0:\n",
    "    print(\"zero\")"
   ]
  },
  {
   "cell_type": "code",
   "execution_count": 5,
   "metadata": {},
   "outputs": [
    {
     "name": "stdout",
     "output_type": "stream",
     "text": [
      "enter the number:2019\n",
      "not a leap year\n"
     ]
    }
   ],
   "source": [
    "#check the input is leap year or not\n",
    "year = int(input(\"enter the number:\"))\n",
    "if year%4==0:\n",
    "    print(\"leap year\")\n",
    "else:\n",
    "    print(\"not a leap year\")"
   ]
  },
  {
   "cell_type": "code",
   "execution_count": 6,
   "metadata": {},
   "outputs": [
    {
     "name": "stdout",
     "output_type": "stream",
     "text": [
      "enter the age:34\n",
      "elligible\n"
     ]
    }
   ],
   "source": [
    "#is a person elligible for vote or not\n",
    "age =  int(input(\"enter the age:\"))\n",
    "if age<18:\n",
    "    print(\"not elligible\")\n",
    "else:\n",
    "    print(\"elligible\")"
   ]
  }
 ],
 "metadata": {
  "kernelspec": {
   "display_name": "Python 3",
   "language": "python",
   "name": "python3"
  },
  "language_info": {
   "codemirror_mode": {
    "name": "ipython",
    "version": 3
   },
   "file_extension": ".py",
   "mimetype": "text/x-python",
   "name": "python",
   "nbconvert_exporter": "python",
   "pygments_lexer": "ipython3",
   "version": "3.7.3"
  }
 },
 "nbformat": 4,
 "nbformat_minor": 2
}
